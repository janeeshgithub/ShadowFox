{
 "cells": [
  {
   "cell_type": "code",
   "execution_count": 2,
   "metadata": {
    "_cell_guid": "b1076dfc-b9ad-4769-8c92-a6c4dae69d19",
    "_uuid": "8f2839f25d086af736a60e9eeb907d3b93b6e0e5",
    "execution": {
     "iopub.execute_input": "2025-03-17T10:22:42.193911Z",
     "iopub.status.busy": "2025-03-17T10:22:42.193498Z",
     "iopub.status.idle": "2025-03-17T10:22:43.216002Z",
     "shell.execute_reply": "2025-03-17T10:22:43.214836Z",
     "shell.execute_reply.started": "2025-03-17T10:22:42.193862Z"
    },
    "trusted": true
   },
   "outputs": [],
   "source": [
    "import numpy as np # linear algebra\n",
    "import pandas as pd # data processing, CSV file I/O (e.g. pd.read_csv)\n",
    "import seaborn as sns\n",
    "import matplotlib.pyplot as plt\n",
    "import warnings\n",
    "warnings.filterwarnings('ignore')\n",
    "import os"
   ]
  },
  {
   "cell_type": "markdown",
   "metadata": {},
   "source": [
    "## import dataset"
   ]
  },
  {
   "cell_type": "code",
   "execution_count": 3,
   "metadata": {
    "execution": {
     "iopub.execute_input": "2025-03-17T10:22:43.218119Z",
     "iopub.status.busy": "2025-03-17T10:22:43.21764Z",
     "iopub.status.idle": "2025-03-17T10:22:43.320219Z",
     "shell.execute_reply": "2025-03-17T10:22:43.319017Z",
     "shell.execute_reply.started": "2025-03-17T10:22:43.218087Z"
    },
    "trusted": true
   },
   "outputs": [],
   "source": [
    "df = pd.read_csv('student_depression_dataset.csv')"
   ]
  },
  {
   "cell_type": "code",
   "execution_count": 4,
   "metadata": {
    "execution": {
     "iopub.execute_input": "2025-03-17T10:22:43.321748Z",
     "iopub.status.busy": "2025-03-17T10:22:43.321373Z",
     "iopub.status.idle": "2025-03-17T10:22:43.347759Z",
     "shell.execute_reply": "2025-03-17T10:22:43.346537Z",
     "shell.execute_reply.started": "2025-03-17T10:22:43.321716Z"
    },
    "trusted": true
   },
   "outputs": [
    {
     "name": "stdout",
     "output_type": "stream",
     "text": [
      "<class 'pandas.core.frame.DataFrame'>\n",
      "RangeIndex: 27901 entries, 0 to 27900\n",
      "Data columns (total 18 columns):\n",
      " #   Column                                 Non-Null Count  Dtype  \n",
      "---  ------                                 --------------  -----  \n",
      " 0   id                                     27901 non-null  int64  \n",
      " 1   Gender                                 27901 non-null  object \n",
      " 2   Age                                    27901 non-null  float64\n",
      " 3   City                                   27901 non-null  object \n",
      " 4   Profession                             27901 non-null  object \n",
      " 5   Academic Pressure                      27901 non-null  float64\n",
      " 6   Work Pressure                          27901 non-null  float64\n",
      " 7   CGPA                                   27901 non-null  float64\n",
      " 8   Study Satisfaction                     27901 non-null  float64\n",
      " 9   Job Satisfaction                       27901 non-null  float64\n",
      " 10  Sleep Duration                         27901 non-null  object \n",
      " 11  Dietary Habits                         27901 non-null  object \n",
      " 12  Degree                                 27901 non-null  object \n",
      " 13  Have you ever had suicidal thoughts ?  27901 non-null  object \n",
      " 14  Work/Study Hours                       27901 non-null  float64\n",
      " 15  Financial Stress                       27901 non-null  object \n",
      " 16  Family History of Mental Illness       27901 non-null  object \n",
      " 17  Depression                             27901 non-null  int64  \n",
      "dtypes: float64(7), int64(2), object(9)\n",
      "memory usage: 3.8+ MB\n"
     ]
    }
   ],
   "source": [
    "df.info()"
   ]
  },
  {
   "cell_type": "code",
   "execution_count": 5,
   "metadata": {
    "execution": {
     "iopub.execute_input": "2025-03-17T10:22:43.349322Z",
     "iopub.status.busy": "2025-03-17T10:22:43.348977Z",
     "iopub.status.idle": "2025-03-17T10:22:43.369913Z",
     "shell.execute_reply": "2025-03-17T10:22:43.368802Z",
     "shell.execute_reply.started": "2025-03-17T10:22:43.34929Z"
    },
    "trusted": true
   },
   "outputs": [
    {
     "data": {
      "text/html": [
       "<div>\n",
       "<style scoped>\n",
       "    .dataframe tbody tr th:only-of-type {\n",
       "        vertical-align: middle;\n",
       "    }\n",
       "\n",
       "    .dataframe tbody tr th {\n",
       "        vertical-align: top;\n",
       "    }\n",
       "\n",
       "    .dataframe thead th {\n",
       "        text-align: right;\n",
       "    }\n",
       "</style>\n",
       "<table border=\"1\" class=\"dataframe\">\n",
       "  <thead>\n",
       "    <tr style=\"text-align: right;\">\n",
       "      <th></th>\n",
       "      <th>id</th>\n",
       "      <th>Gender</th>\n",
       "      <th>Age</th>\n",
       "      <th>City</th>\n",
       "      <th>Profession</th>\n",
       "      <th>Academic Pressure</th>\n",
       "      <th>Work Pressure</th>\n",
       "      <th>CGPA</th>\n",
       "      <th>Study Satisfaction</th>\n",
       "      <th>Job Satisfaction</th>\n",
       "      <th>Sleep Duration</th>\n",
       "      <th>Dietary Habits</th>\n",
       "      <th>Degree</th>\n",
       "      <th>Have you ever had suicidal thoughts ?</th>\n",
       "      <th>Work/Study Hours</th>\n",
       "      <th>Financial Stress</th>\n",
       "      <th>Family History of Mental Illness</th>\n",
       "      <th>Depression</th>\n",
       "    </tr>\n",
       "  </thead>\n",
       "  <tbody>\n",
       "    <tr>\n",
       "      <th>27896</th>\n",
       "      <td>140685</td>\n",
       "      <td>Female</td>\n",
       "      <td>27.0</td>\n",
       "      <td>Surat</td>\n",
       "      <td>Student</td>\n",
       "      <td>5.0</td>\n",
       "      <td>0.0</td>\n",
       "      <td>5.75</td>\n",
       "      <td>5.0</td>\n",
       "      <td>0.0</td>\n",
       "      <td>'5-6 hours'</td>\n",
       "      <td>Unhealthy</td>\n",
       "      <td>'Class 12'</td>\n",
       "      <td>Yes</td>\n",
       "      <td>7.0</td>\n",
       "      <td>1.0</td>\n",
       "      <td>Yes</td>\n",
       "      <td>0</td>\n",
       "    </tr>\n",
       "    <tr>\n",
       "      <th>27897</th>\n",
       "      <td>140686</td>\n",
       "      <td>Male</td>\n",
       "      <td>27.0</td>\n",
       "      <td>Ludhiana</td>\n",
       "      <td>Student</td>\n",
       "      <td>2.0</td>\n",
       "      <td>0.0</td>\n",
       "      <td>9.40</td>\n",
       "      <td>3.0</td>\n",
       "      <td>0.0</td>\n",
       "      <td>'Less than 5 hours'</td>\n",
       "      <td>Healthy</td>\n",
       "      <td>MSc</td>\n",
       "      <td>No</td>\n",
       "      <td>0.0</td>\n",
       "      <td>3.0</td>\n",
       "      <td>Yes</td>\n",
       "      <td>0</td>\n",
       "    </tr>\n",
       "    <tr>\n",
       "      <th>27898</th>\n",
       "      <td>140689</td>\n",
       "      <td>Male</td>\n",
       "      <td>31.0</td>\n",
       "      <td>Faridabad</td>\n",
       "      <td>Student</td>\n",
       "      <td>3.0</td>\n",
       "      <td>0.0</td>\n",
       "      <td>6.61</td>\n",
       "      <td>4.0</td>\n",
       "      <td>0.0</td>\n",
       "      <td>'5-6 hours'</td>\n",
       "      <td>Unhealthy</td>\n",
       "      <td>MD</td>\n",
       "      <td>No</td>\n",
       "      <td>12.0</td>\n",
       "      <td>2.0</td>\n",
       "      <td>No</td>\n",
       "      <td>0</td>\n",
       "    </tr>\n",
       "    <tr>\n",
       "      <th>27899</th>\n",
       "      <td>140690</td>\n",
       "      <td>Female</td>\n",
       "      <td>18.0</td>\n",
       "      <td>Ludhiana</td>\n",
       "      <td>Student</td>\n",
       "      <td>5.0</td>\n",
       "      <td>0.0</td>\n",
       "      <td>6.88</td>\n",
       "      <td>2.0</td>\n",
       "      <td>0.0</td>\n",
       "      <td>'Less than 5 hours'</td>\n",
       "      <td>Healthy</td>\n",
       "      <td>'Class 12'</td>\n",
       "      <td>Yes</td>\n",
       "      <td>10.0</td>\n",
       "      <td>5.0</td>\n",
       "      <td>No</td>\n",
       "      <td>1</td>\n",
       "    </tr>\n",
       "    <tr>\n",
       "      <th>27900</th>\n",
       "      <td>140699</td>\n",
       "      <td>Male</td>\n",
       "      <td>27.0</td>\n",
       "      <td>Patna</td>\n",
       "      <td>Student</td>\n",
       "      <td>4.0</td>\n",
       "      <td>0.0</td>\n",
       "      <td>9.24</td>\n",
       "      <td>1.0</td>\n",
       "      <td>0.0</td>\n",
       "      <td>'Less than 5 hours'</td>\n",
       "      <td>Healthy</td>\n",
       "      <td>BCA</td>\n",
       "      <td>Yes</td>\n",
       "      <td>2.0</td>\n",
       "      <td>3.0</td>\n",
       "      <td>Yes</td>\n",
       "      <td>1</td>\n",
       "    </tr>\n",
       "  </tbody>\n",
       "</table>\n",
       "</div>"
      ],
      "text/plain": [
       "           id  Gender   Age       City Profession  Academic Pressure  \\\n",
       "27896  140685  Female  27.0      Surat    Student                5.0   \n",
       "27897  140686    Male  27.0   Ludhiana    Student                2.0   \n",
       "27898  140689    Male  31.0  Faridabad    Student                3.0   \n",
       "27899  140690  Female  18.0   Ludhiana    Student                5.0   \n",
       "27900  140699    Male  27.0      Patna    Student                4.0   \n",
       "\n",
       "       Work Pressure  CGPA  Study Satisfaction  Job Satisfaction  \\\n",
       "27896            0.0  5.75                 5.0               0.0   \n",
       "27897            0.0  9.40                 3.0               0.0   \n",
       "27898            0.0  6.61                 4.0               0.0   \n",
       "27899            0.0  6.88                 2.0               0.0   \n",
       "27900            0.0  9.24                 1.0               0.0   \n",
       "\n",
       "            Sleep Duration Dietary Habits      Degree  \\\n",
       "27896          '5-6 hours'      Unhealthy  'Class 12'   \n",
       "27897  'Less than 5 hours'        Healthy         MSc   \n",
       "27898          '5-6 hours'      Unhealthy          MD   \n",
       "27899  'Less than 5 hours'        Healthy  'Class 12'   \n",
       "27900  'Less than 5 hours'        Healthy         BCA   \n",
       "\n",
       "      Have you ever had suicidal thoughts ?  Work/Study Hours  \\\n",
       "27896                                   Yes               7.0   \n",
       "27897                                    No               0.0   \n",
       "27898                                    No              12.0   \n",
       "27899                                   Yes              10.0   \n",
       "27900                                   Yes               2.0   \n",
       "\n",
       "      Financial Stress Family History of Mental Illness  Depression  \n",
       "27896              1.0                              Yes           0  \n",
       "27897              3.0                              Yes           0  \n",
       "27898              2.0                               No           0  \n",
       "27899              5.0                               No           1  \n",
       "27900              3.0                              Yes           1  "
      ]
     },
     "execution_count": 5,
     "metadata": {},
     "output_type": "execute_result"
    }
   ],
   "source": [
    "df.tail()"
   ]
  },
  {
   "cell_type": "code",
   "execution_count": null,
   "metadata": {
    "execution": {
     "iopub.execute_input": "2025-03-17T10:22:43.37351Z",
     "iopub.status.busy": "2025-03-17T10:22:43.373187Z",
     "iopub.status.idle": "2025-03-17T10:22:43.411308Z",
     "shell.execute_reply": "2025-03-17T10:22:43.410063Z",
     "shell.execute_reply.started": "2025-03-17T10:22:43.373467Z"
    },
    "trusted": true
   },
   "outputs": [
    {
     "name": "stdout",
     "output_type": "stream",
     "text": [
      "<class 'pandas.core.frame.DataFrame'>\n",
      "RangeIndex: 27901 entries, 0 to 27900\n",
      "Data columns (total 18 columns):\n",
      " #   Column                                 Non-Null Count  Dtype  \n",
      "---  ------                                 --------------  -----  \n",
      " 0   id                                     27901 non-null  int64  \n",
      " 1   Gender                                 27901 non-null  object \n",
      " 2   Age                                    27901 non-null  float64\n",
      " 3   City                                   27901 non-null  object \n",
      " 4   Profession                             27901 non-null  object \n",
      " 5   Academic Pressure                      27901 non-null  float64\n",
      " 6   Work Pressure                          27901 non-null  float64\n",
      " 7   CGPA                                   27901 non-null  float64\n",
      " 8   Study Satisfaction                     27901 non-null  float64\n",
      " 9   Job Satisfaction                       27901 non-null  float64\n",
      " 10  Sleep Duration                         27901 non-null  object \n",
      " 11  Dietary Habits                         27901 non-null  object \n",
      " 12  Degree                                 27901 non-null  object \n",
      " 13  Have you ever had suicidal thoughts ?  27901 non-null  object \n",
      " 14  Work/Study Hours                       27901 non-null  float64\n",
      " 15  Financial Stress                       27901 non-null  object \n",
      " 16  Family History of Mental Illness       27901 non-null  object \n",
      " 17  Depression                             27901 non-null  int64  \n",
      "dtypes: float64(7), int64(2), object(9)\n",
      "memory usage: 3.8+ MB\n"
     ]
    }
   ],
   "source": [
    "df.head()"
   ]
  },
  {
   "cell_type": "code",
   "execution_count": 16,
   "metadata": {
    "execution": {
     "iopub.execute_input": "2025-03-17T10:22:43.413521Z",
     "iopub.status.busy": "2025-03-17T10:22:43.413099Z",
     "iopub.status.idle": "2025-03-17T10:22:43.454356Z",
     "shell.execute_reply": "2025-03-17T10:22:43.453132Z",
     "shell.execute_reply.started": "2025-03-17T10:22:43.413456Z"
    },
    "trusted": true
   },
   "outputs": [
    {
     "data": {
      "text/html": [
       "<div>\n",
       "<style scoped>\n",
       "    .dataframe tbody tr th:only-of-type {\n",
       "        vertical-align: middle;\n",
       "    }\n",
       "\n",
       "    .dataframe tbody tr th {\n",
       "        vertical-align: top;\n",
       "    }\n",
       "\n",
       "    .dataframe thead th {\n",
       "        text-align: right;\n",
       "    }\n",
       "</style>\n",
       "<table border=\"1\" class=\"dataframe\">\n",
       "  <thead>\n",
       "    <tr style=\"text-align: right;\">\n",
       "      <th></th>\n",
       "      <th>id</th>\n",
       "      <th>Age</th>\n",
       "      <th>Academic Pressure</th>\n",
       "      <th>Work Pressure</th>\n",
       "      <th>CGPA</th>\n",
       "      <th>Study Satisfaction</th>\n",
       "      <th>Job Satisfaction</th>\n",
       "      <th>Work/Study Hours</th>\n",
       "      <th>Depression</th>\n",
       "    </tr>\n",
       "  </thead>\n",
       "  <tbody>\n",
       "    <tr>\n",
       "      <th>count</th>\n",
       "      <td>27901.000000</td>\n",
       "      <td>27901.000000</td>\n",
       "      <td>27901.000000</td>\n",
       "      <td>27901.000000</td>\n",
       "      <td>27901.000000</td>\n",
       "      <td>27901.000000</td>\n",
       "      <td>27901.000000</td>\n",
       "      <td>27901.000000</td>\n",
       "      <td>27901.000000</td>\n",
       "    </tr>\n",
       "    <tr>\n",
       "      <th>mean</th>\n",
       "      <td>70442.149421</td>\n",
       "      <td>25.822300</td>\n",
       "      <td>3.141214</td>\n",
       "      <td>0.000430</td>\n",
       "      <td>7.656104</td>\n",
       "      <td>2.943837</td>\n",
       "      <td>0.000681</td>\n",
       "      <td>7.156984</td>\n",
       "      <td>0.585499</td>\n",
       "    </tr>\n",
       "    <tr>\n",
       "      <th>std</th>\n",
       "      <td>40641.175216</td>\n",
       "      <td>4.905687</td>\n",
       "      <td>1.381465</td>\n",
       "      <td>0.043992</td>\n",
       "      <td>1.470707</td>\n",
       "      <td>1.361148</td>\n",
       "      <td>0.044394</td>\n",
       "      <td>3.707642</td>\n",
       "      <td>0.492645</td>\n",
       "    </tr>\n",
       "    <tr>\n",
       "      <th>min</th>\n",
       "      <td>2.000000</td>\n",
       "      <td>18.000000</td>\n",
       "      <td>0.000000</td>\n",
       "      <td>0.000000</td>\n",
       "      <td>0.000000</td>\n",
       "      <td>0.000000</td>\n",
       "      <td>0.000000</td>\n",
       "      <td>0.000000</td>\n",
       "      <td>0.000000</td>\n",
       "    </tr>\n",
       "    <tr>\n",
       "      <th>25%</th>\n",
       "      <td>35039.000000</td>\n",
       "      <td>21.000000</td>\n",
       "      <td>2.000000</td>\n",
       "      <td>0.000000</td>\n",
       "      <td>6.290000</td>\n",
       "      <td>2.000000</td>\n",
       "      <td>0.000000</td>\n",
       "      <td>4.000000</td>\n",
       "      <td>0.000000</td>\n",
       "    </tr>\n",
       "    <tr>\n",
       "      <th>50%</th>\n",
       "      <td>70684.000000</td>\n",
       "      <td>25.000000</td>\n",
       "      <td>3.000000</td>\n",
       "      <td>0.000000</td>\n",
       "      <td>7.770000</td>\n",
       "      <td>3.000000</td>\n",
       "      <td>0.000000</td>\n",
       "      <td>8.000000</td>\n",
       "      <td>1.000000</td>\n",
       "    </tr>\n",
       "    <tr>\n",
       "      <th>75%</th>\n",
       "      <td>105818.000000</td>\n",
       "      <td>30.000000</td>\n",
       "      <td>4.000000</td>\n",
       "      <td>0.000000</td>\n",
       "      <td>8.920000</td>\n",
       "      <td>4.000000</td>\n",
       "      <td>0.000000</td>\n",
       "      <td>10.000000</td>\n",
       "      <td>1.000000</td>\n",
       "    </tr>\n",
       "    <tr>\n",
       "      <th>max</th>\n",
       "      <td>140699.000000</td>\n",
       "      <td>59.000000</td>\n",
       "      <td>5.000000</td>\n",
       "      <td>5.000000</td>\n",
       "      <td>10.000000</td>\n",
       "      <td>5.000000</td>\n",
       "      <td>4.000000</td>\n",
       "      <td>12.000000</td>\n",
       "      <td>1.000000</td>\n",
       "    </tr>\n",
       "  </tbody>\n",
       "</table>\n",
       "</div>"
      ],
      "text/plain": [
       "                  id           Age  Academic Pressure  Work Pressure  \\\n",
       "count   27901.000000  27901.000000       27901.000000   27901.000000   \n",
       "mean    70442.149421     25.822300           3.141214       0.000430   \n",
       "std     40641.175216      4.905687           1.381465       0.043992   \n",
       "min         2.000000     18.000000           0.000000       0.000000   \n",
       "25%     35039.000000     21.000000           2.000000       0.000000   \n",
       "50%     70684.000000     25.000000           3.000000       0.000000   \n",
       "75%    105818.000000     30.000000           4.000000       0.000000   \n",
       "max    140699.000000     59.000000           5.000000       5.000000   \n",
       "\n",
       "               CGPA  Study Satisfaction  Job Satisfaction  Work/Study Hours  \\\n",
       "count  27901.000000        27901.000000      27901.000000      27901.000000   \n",
       "mean       7.656104            2.943837          0.000681          7.156984   \n",
       "std        1.470707            1.361148          0.044394          3.707642   \n",
       "min        0.000000            0.000000          0.000000          0.000000   \n",
       "25%        6.290000            2.000000          0.000000          4.000000   \n",
       "50%        7.770000            3.000000          0.000000          8.000000   \n",
       "75%        8.920000            4.000000          0.000000         10.000000   \n",
       "max       10.000000            5.000000          4.000000         12.000000   \n",
       "\n",
       "         Depression  \n",
       "count  27901.000000  \n",
       "mean       0.585499  \n",
       "std        0.492645  \n",
       "min        0.000000  \n",
       "25%        0.000000  \n",
       "50%        1.000000  \n",
       "75%        1.000000  \n",
       "max        1.000000  "
      ]
     },
     "execution_count": 16,
     "metadata": {},
     "output_type": "execute_result"
    }
   ],
   "source": [
    "df.describe()"
   ]
  },
  {
   "cell_type": "code",
   "execution_count": 17,
   "metadata": {
    "execution": {
     "iopub.execute_input": "2025-03-17T10:22:43.455908Z",
     "iopub.status.busy": "2025-03-17T10:22:43.455594Z",
     "iopub.status.idle": "2025-03-17T10:22:43.477759Z",
     "shell.execute_reply": "2025-03-17T10:22:43.476465Z",
     "shell.execute_reply.started": "2025-03-17T10:22:43.455881Z"
    },
    "trusted": true
   },
   "outputs": [
    {
     "data": {
      "text/plain": [
       "id                                       0\n",
       "Gender                                   0\n",
       "Age                                      0\n",
       "City                                     0\n",
       "Profession                               0\n",
       "Academic Pressure                        0\n",
       "Work Pressure                            0\n",
       "CGPA                                     0\n",
       "Study Satisfaction                       0\n",
       "Job Satisfaction                         0\n",
       "Sleep Duration                           0\n",
       "Dietary Habits                           0\n",
       "Degree                                   0\n",
       "Have you ever had suicidal thoughts ?    0\n",
       "Work/Study Hours                         0\n",
       "Financial Stress                         0\n",
       "Family History of Mental Illness         0\n",
       "Depression                               0\n",
       "dtype: int64"
      ]
     },
     "execution_count": 17,
     "metadata": {},
     "output_type": "execute_result"
    }
   ],
   "source": [
    "df.isnull().sum()"
   ]
  },
  {
   "cell_type": "code",
   "execution_count": 18,
   "metadata": {
    "execution": {
     "iopub.execute_input": "2025-03-17T10:22:43.479445Z",
     "iopub.status.busy": "2025-03-17T10:22:43.479055Z",
     "iopub.status.idle": "2025-03-17T10:22:43.517845Z",
     "shell.execute_reply": "2025-03-17T10:22:43.516618Z",
     "shell.execute_reply.started": "2025-03-17T10:22:43.479404Z"
    },
    "trusted": true
   },
   "outputs": [
    {
     "data": {
      "text/plain": [
       "0"
      ]
     },
     "execution_count": 18,
     "metadata": {},
     "output_type": "execute_result"
    }
   ],
   "source": [
    "df.duplicated().sum()"
   ]
  },
  {
   "cell_type": "code",
   "execution_count": 19,
   "metadata": {
    "execution": {
     "iopub.execute_input": "2025-03-17T10:22:43.519595Z",
     "iopub.status.busy": "2025-03-17T10:22:43.519163Z",
     "iopub.status.idle": "2025-03-17T10:22:43.528929Z",
     "shell.execute_reply": "2025-03-17T10:22:43.527763Z",
     "shell.execute_reply.started": "2025-03-17T10:22:43.519551Z"
    },
    "trusted": true
   },
   "outputs": [
    {
     "data": {
      "text/plain": [
       "id                                         int64\n",
       "Gender                                    object\n",
       "Age                                      float64\n",
       "City                                      object\n",
       "Profession                                object\n",
       "Academic Pressure                        float64\n",
       "Work Pressure                            float64\n",
       "CGPA                                     float64\n",
       "Study Satisfaction                       float64\n",
       "Job Satisfaction                         float64\n",
       "Sleep Duration                            object\n",
       "Dietary Habits                            object\n",
       "Degree                                    object\n",
       "Have you ever had suicidal thoughts ?     object\n",
       "Work/Study Hours                         float64\n",
       "Financial Stress                          object\n",
       "Family History of Mental Illness          object\n",
       "Depression                                 int64\n",
       "dtype: object"
      ]
     },
     "execution_count": 19,
     "metadata": {},
     "output_type": "execute_result"
    }
   ],
   "source": [
    "df.dtypes"
   ]
  },
  {
   "cell_type": "code",
   "execution_count": 20,
   "metadata": {
    "execution": {
     "iopub.execute_input": "2025-03-17T10:22:43.530412Z",
     "iopub.status.busy": "2025-03-17T10:22:43.530094Z",
     "iopub.status.idle": "2025-03-17T10:22:43.549688Z",
     "shell.execute_reply": "2025-03-17T10:22:43.548577Z",
     "shell.execute_reply.started": "2025-03-17T10:22:43.530385Z"
    },
    "trusted": true
   },
   "outputs": [
    {
     "data": {
      "text/plain": [
       "(27901, 18)"
      ]
     },
     "execution_count": 20,
     "metadata": {},
     "output_type": "execute_result"
    }
   ],
   "source": [
    "df.shape"
   ]
  },
  {
   "cell_type": "code",
   "execution_count": 6,
   "metadata": {
    "execution": {
     "iopub.execute_input": "2025-03-17T10:22:43.551219Z",
     "iopub.status.busy": "2025-03-17T10:22:43.550862Z",
     "iopub.status.idle": "2025-03-17T10:22:43.581289Z",
     "shell.execute_reply": "2025-03-17T10:22:43.580113Z",
     "shell.execute_reply.started": "2025-03-17T10:22:43.551189Z"
    },
    "trusted": true
   },
   "outputs": [
    {
     "data": {
      "text/plain": [
       "<bound method DataFrame.corr of            id  Gender   Age           City Profession  Academic Pressure  \\\n",
       "0           2    Male  33.0  Visakhapatnam    Student                5.0   \n",
       "1           8  Female  24.0      Bangalore    Student                2.0   \n",
       "2          26    Male  31.0       Srinagar    Student                3.0   \n",
       "3          30  Female  28.0       Varanasi    Student                3.0   \n",
       "4          32  Female  25.0         Jaipur    Student                4.0   \n",
       "...       ...     ...   ...            ...        ...                ...   \n",
       "27896  140685  Female  27.0          Surat    Student                5.0   \n",
       "27897  140686    Male  27.0       Ludhiana    Student                2.0   \n",
       "27898  140689    Male  31.0      Faridabad    Student                3.0   \n",
       "27899  140690  Female  18.0       Ludhiana    Student                5.0   \n",
       "27900  140699    Male  27.0          Patna    Student                4.0   \n",
       "\n",
       "       Work Pressure  CGPA  Study Satisfaction  Job Satisfaction  \\\n",
       "0                0.0  8.97                 2.0               0.0   \n",
       "1                0.0  5.90                 5.0               0.0   \n",
       "2                0.0  7.03                 5.0               0.0   \n",
       "3                0.0  5.59                 2.0               0.0   \n",
       "4                0.0  8.13                 3.0               0.0   \n",
       "...              ...   ...                 ...               ...   \n",
       "27896            0.0  5.75                 5.0               0.0   \n",
       "27897            0.0  9.40                 3.0               0.0   \n",
       "27898            0.0  6.61                 4.0               0.0   \n",
       "27899            0.0  6.88                 2.0               0.0   \n",
       "27900            0.0  9.24                 1.0               0.0   \n",
       "\n",
       "            Sleep Duration Dietary Habits      Degree  \\\n",
       "0              '5-6 hours'        Healthy     B.Pharm   \n",
       "1              '5-6 hours'       Moderate         BSc   \n",
       "2      'Less than 5 hours'        Healthy          BA   \n",
       "3              '7-8 hours'       Moderate         BCA   \n",
       "4              '5-6 hours'       Moderate      M.Tech   \n",
       "...                    ...            ...         ...   \n",
       "27896          '5-6 hours'      Unhealthy  'Class 12'   \n",
       "27897  'Less than 5 hours'        Healthy         MSc   \n",
       "27898          '5-6 hours'      Unhealthy          MD   \n",
       "27899  'Less than 5 hours'        Healthy  'Class 12'   \n",
       "27900  'Less than 5 hours'        Healthy         BCA   \n",
       "\n",
       "      Have you ever had suicidal thoughts ?  Work/Study Hours  \\\n",
       "0                                       Yes               3.0   \n",
       "1                                        No               3.0   \n",
       "2                                        No               9.0   \n",
       "3                                       Yes               4.0   \n",
       "4                                       Yes               1.0   \n",
       "...                                     ...               ...   \n",
       "27896                                   Yes               7.0   \n",
       "27897                                    No               0.0   \n",
       "27898                                    No              12.0   \n",
       "27899                                   Yes              10.0   \n",
       "27900                                   Yes               2.0   \n",
       "\n",
       "      Financial Stress Family History of Mental Illness  Depression  \n",
       "0                  1.0                               No           1  \n",
       "1                  2.0                              Yes           0  \n",
       "2                  1.0                              Yes           0  \n",
       "3                  5.0                              Yes           1  \n",
       "4                  1.0                               No           0  \n",
       "...                ...                              ...         ...  \n",
       "27896              1.0                              Yes           0  \n",
       "27897              3.0                              Yes           0  \n",
       "27898              2.0                               No           0  \n",
       "27899              5.0                               No           1  \n",
       "27900              3.0                              Yes           1  \n",
       "\n",
       "[27901 rows x 18 columns]>"
      ]
     },
     "execution_count": 6,
     "metadata": {},
     "output_type": "execute_result"
    }
   ],
   "source": [
    "df.corr"
   ]
  },
  {
   "cell_type": "code",
   "execution_count": 22,
   "metadata": {
    "execution": {
     "iopub.execute_input": "2025-03-17T10:22:43.583353Z",
     "iopub.status.busy": "2025-03-17T10:22:43.582879Z",
     "iopub.status.idle": "2025-03-17T10:22:43.601946Z",
     "shell.execute_reply": "2025-03-17T10:22:43.600557Z",
     "shell.execute_reply.started": "2025-03-17T10:22:43.583304Z"
    },
    "trusted": true
   },
   "outputs": [
    {
     "data": {
      "text/plain": [
       "Index(['id', 'Gender', 'Age', 'City', 'Profession', 'Academic Pressure',\n",
       "       'Work Pressure', 'CGPA', 'Study Satisfaction', 'Job Satisfaction',\n",
       "       'Sleep Duration', 'Dietary Habits', 'Degree',\n",
       "       'Have you ever had suicidal thoughts ?', 'Work/Study Hours',\n",
       "       'Financial Stress', 'Family History of Mental Illness', 'Depression'],\n",
       "      dtype='object')"
      ]
     },
     "execution_count": 22,
     "metadata": {},
     "output_type": "execute_result"
    }
   ],
   "source": [
    "df.columns"
   ]
  },
  {
   "cell_type": "markdown",
   "metadata": {},
   "source": [
    "# Data visulizations"
   ]
  },
  {
   "cell_type": "code",
   "execution_count": 42,
   "metadata": {
    "execution": {
     "iopub.execute_input": "2025-03-17T10:22:43.604114Z",
     "iopub.status.busy": "2025-03-17T10:22:43.603397Z",
     "iopub.status.idle": "2025-03-17T10:22:43.928028Z",
     "shell.execute_reply": "2025-03-17T10:22:43.926948Z",
     "shell.execute_reply.started": "2025-03-17T10:22:43.604063Z"
    },
    "trusted": true
   },
   "outputs": [
    {
     "data": {
      "image/png": "[encoded data removed]",
      "text/plain": [
       "<Figure size 600x400 with 1 Axes>"
      ]
     },
     "metadata": {},
     "output_type": "display_data"
    }
   ],
   "source": [
    "# Set style\n",
    "sns.set_theme(style=\"darkgrid\")\n",
    "\n",
    "# Gender Distribution\n",
    "plt.figure(figsize=(6, 4))\n",
    "sns.countplot(x='Gender', data=df, palette='coolwarm')\n",
    "plt.title(\"Gender Distribution\")\n",
    "plt.xlabel(\"Gender\")\n",
    "plt.ylabel(\"Count\")\n",
    "plt.show()"
   ]
  },
  {
   "cell_type": "code",
   "execution_count": 43,
   "metadata": {
    "execution": {
     "iopub.execute_input": "2025-03-17T10:22:43.929529Z",
     "iopub.status.busy": "2025-03-17T10:22:43.929089Z",
     "iopub.status.idle": "2025-03-17T10:22:44.41901Z",
     "shell.execute_reply": "2025-03-17T10:22:44.417839Z",
     "shell.execute_reply.started": "2025-03-17T10:22:43.929464Z"
    },
    "trusted": true
   },
   "outputs": [
    {
     "data": {
      "image/png": "[encoded data removed]",
      "text/plain": [
       "<Figure size 600x400 with 1 Axes>"
      ]
     },
     "metadata": {},
     "output_type": "display_data"
    }
   ],
   "source": [
    "# Age Distribution\n",
    "plt.figure(figsize=(6, 4))\n",
    "sns.histplot(df['Age'], bins=10, kde=True, color='darkblue')\n",
    "plt.title(\"Age Distribution\")\n",
    "plt.xlabel(\"Age\")\n",
    "plt.ylabel(\"Frequency\")\n",
    "plt.show()"
   ]
  },
  {
   "cell_type": "code",
   "execution_count": 44,
   "metadata": {
    "execution": {
     "iopub.execute_input": "2025-03-17T10:22:44.420862Z",
     "iopub.status.busy": "2025-03-17T10:22:44.420364Z",
     "iopub.status.idle": "2025-03-17T10:22:44.609135Z",
     "shell.execute_reply": "2025-03-17T10:22:44.607802Z",
     "shell.execute_reply.started": "2025-03-17T10:22:44.420812Z"
    },
    "trusted": true
   },
   "outputs": [
    {
     "data": {
      "image/png": "[encoded data removed]",
      "text/plain": [
       "<Figure size 600x400 with 1 Axes>"
      ]
     },
     "metadata": {},
     "output_type": "display_data"
    }
   ],
   "source": [
    "# Academic vs. Work Pressure (Box Plot)\n",
    "plt.figure(figsize=(6, 4))\n",
    "sns.boxplot(data=df[['Academic Pressure', 'Work Pressure']], palette='Set2')\n",
    "plt.title(\"Academic vs. Work Pressure\")\n",
    "plt.show()"
   ]
  },
  {
   "cell_type": "code",
   "execution_count": 45,
   "metadata": {
    "execution": {
     "iopub.execute_input": "2025-03-17T10:22:44.610821Z",
     "iopub.status.busy": "2025-03-17T10:22:44.610345Z",
     "iopub.status.idle": "2025-03-17T10:22:45.964942Z",
     "shell.execute_reply": "2025-03-17T10:22:45.963919Z",
     "shell.execute_reply.started": "2025-03-17T10:22:44.61078Z"
    },
    "trusted": true
   },
   "outputs": [
    {
     "data": {
      "image/png": "[encoded data removed]",
      "text/plain": [
       "<Figure size 600x400 with 1 Axes>"
      ]
     },
     "metadata": {},
     "output_type": "display_data"
    }
   ],
   "source": [
    "# Sleep Duration vs. Depression (Scatter Plot)\n",
    "plt.figure(figsize=(6, 4))\n",
    "sns.scatterplot(x='Sleep Duration', y='Depression', hue='Gender', data=df, alpha=0.7)\n",
    "plt.title(\"Sleep Duration vs. Depression\")\n",
    "plt.xlabel(\"Sleep Duration (hours)\")\n",
    "plt.ylabel(\"Depression Level\")\n",
    "plt.show()"
   ]
  },
  {
   "cell_type": "code",
   "execution_count": 46,
   "metadata": {
    "execution": {
     "iopub.execute_input": "2025-03-17T10:22:45.968687Z",
     "iopub.status.busy": "2025-03-17T10:22:45.968339Z",
     "iopub.status.idle": "2025-03-17T10:22:46.333688Z",
     "shell.execute_reply": "2025-03-17T10:22:46.332438Z",
     "shell.execute_reply.started": "2025-03-17T10:22:45.968657Z"
    },
    "trusted": true
   },
   "outputs": [
    {
     "data": {
      "image/png": "[encoded data removed]",
      "text/plain": [
       "<Figure size 600x400 with 1 Axes>"
      ]
     },
     "metadata": {},
     "output_type": "display_data"
    }
   ],
   "source": [
    "# Financial Stress vs. Depression (Violin Plot)\n",
    "plt.figure(figsize=(6, 4))\n",
    "sns.violinplot(x='Financial Stress', y='Depression', data=df, palette='viridis')\n",
    "plt.title(\"Financial Stress vs. Depression\")\n",
    "plt.show()"
   ]
  },
  {
   "cell_type": "code",
   "execution_count": null,
   "metadata": {
    "execution": {
     "iopub.execute_input": "2025-03-17T10:22:46.335505Z",
     "iopub.status.busy": "2025-03-17T10:22:46.335205Z",
     "iopub.status.idle": "2025-03-17T10:22:46.89746Z",
     "shell.execute_reply": "2025-03-17T10:22:46.896335Z",
     "shell.execute_reply.started": "2025-03-17T10:22:46.33546Z"
    },
    "trusted": true
   },
   "outputs": [],
   "source": [
    "numeric_df = df.select_dtypes(include=['number'])\n",
    "plt.figure(figsize=(8, 6))\n",
    "sns.heatmap(numeric_df.corr(), annot=True, cmap='coolwarm', fmt='.2f')\n",
    "plt.title(\"Correlation Heatmap\")\n",
    "plt.show()"
   ]
  },
  {
   "cell_type": "markdown",
   "metadata": {},
   "source": [
    "## Predictive modeling"
   ]
  },
  {
   "cell_type": "code",
   "execution_count": 30,
   "metadata": {
    "execution": {
     "iopub.execute_input": "2025-03-17T10:22:46.899035Z",
     "iopub.status.busy": "2025-03-17T10:22:46.898614Z",
     "iopub.status.idle": "2025-03-17T10:22:47.036703Z",
     "shell.execute_reply": "2025-03-17T10:22:47.03526Z",
     "shell.execute_reply.started": "2025-03-17T10:22:46.899004Z"
    },
    "trusted": true
   },
   "outputs": [],
   "source": [
    "from sklearn.model_selection import train_test_split\n",
    "from sklearn.preprocessing import LabelEncoder\n",
    "from sklearn.ensemble import RandomForestClassifier, GradientBoostingClassifier\n",
    "from sklearn.linear_model import LogisticRegression\n",
    "from sklearn.svm import SVC\n",
    "from sklearn.neighbors import KNeighborsClassifier\n",
    "from sklearn.metrics import accuracy_score"
   ]
  },
  {
   "cell_type": "code",
   "execution_count": 31,
   "metadata": {
    "execution": {
     "iopub.execute_input": "2025-03-17T10:22:47.038251Z",
     "iopub.status.busy": "2025-03-17T10:22:47.03795Z",
     "iopub.status.idle": "2025-03-17T10:22:47.049146Z",
     "shell.execute_reply": "2025-03-17T10:22:47.048042Z",
     "shell.execute_reply.started": "2025-03-17T10:22:47.038224Z"
    },
    "trusted": true
   },
   "outputs": [],
   "source": [
    "# Drop 'id' column if it exists\n",
    "df.drop(columns=['id'], inplace=True, errors='ignore')"
   ]
  },
  {
   "cell_type": "code",
   "execution_count": 32,
   "metadata": {
    "execution": {
     "iopub.execute_input": "2025-03-17T10:22:47.051012Z",
     "iopub.status.busy": "2025-03-17T10:22:47.050569Z",
     "iopub.status.idle": "2025-03-17T10:22:47.074008Z",
     "shell.execute_reply": "2025-03-17T10:22:47.072876Z",
     "shell.execute_reply.started": "2025-03-17T10:22:47.050967Z"
    },
    "trusted": true
   },
   "outputs": [],
   "source": [
    "# Identify categorical columns\n",
    "categorical_cols = df.select_dtypes(include=['object']).columns.tolist()"
   ]
  },
  {
   "cell_type": "code",
   "execution_count": 34,
   "metadata": {
    "execution": {
     "iopub.execute_input": "2025-03-17T10:22:47.075853Z",
     "iopub.status.busy": "2025-03-17T10:22:47.075375Z",
     "iopub.status.idle": "2025-03-17T10:22:47.202047Z",
     "shell.execute_reply": "2025-03-17T10:22:47.200682Z",
     "shell.execute_reply.started": "2025-03-17T10:22:47.075808Z"
    },
    "trusted": true
   },
   "outputs": [
    {
     "name": "stdout",
     "output_type": "stream",
     "text": [
      "Gender                                     int32\n",
      "Age                                      float64\n",
      "City                                       int32\n",
      "Profession                                 int32\n",
      "Academic Pressure                        float64\n",
      "Work Pressure                            float64\n",
      "CGPA                                     float64\n",
      "Study Satisfaction                       float64\n",
      "Job Satisfaction                         float64\n",
      "Sleep Duration                             int32\n",
      "Dietary Habits                             int32\n",
      "Degree                                     int32\n",
      "Have you ever had suicidal thoughts ?      int32\n",
      "Work/Study Hours                         float64\n",
      "Financial Stress                          object\n",
      "Family History of Mental Illness           int32\n",
      "Depression                                 int64\n",
      "dtype: object\n"
     ]
    }
   ],
   "source": [
    "from sklearn.preprocessing import LabelEncoder\n",
    "\n",
    "# Identify categorical columns\n",
    "categorical_cols = ['Gender', 'City', 'Profession', 'Degree', 'Dietary Habits', \n",
    "                    'Sleep Duration', 'Have you ever had suicidal thoughts ?', \n",
    "                    'Family History of Mental Illness']\n",
    "\n",
    "# Apply Label Encoding\n",
    "le = LabelEncoder()\n",
    "for col in categorical_cols:\n",
    "    df[col] = df[col].astype(str).str.strip(\"'\")  # Remove extra quotes\n",
    "    df[col] = le.fit_transform(df[col])\n",
    "\n",
    "# Check if all values are numeric\n",
    "print(df.dtypes)\n"
   ]
  },
  {
   "cell_type": "code",
   "execution_count": 26,
   "metadata": {
    "execution": {
     "iopub.execute_input": "2025-03-17T10:22:47.2038Z",
     "iopub.status.busy": "2025-03-17T10:22:47.203224Z",
     "iopub.status.idle": "2025-03-17T10:22:47.223865Z",
     "shell.execute_reply": "2025-03-17T10:22:47.222576Z",
     "shell.execute_reply.started": "2025-03-17T10:22:47.203757Z"
    },
    "trusted": true
   },
   "outputs": [],
   "source": [
    "# Handling missing values (filling with median for numerical columns)\n",
    "df.fillna(df.median(numeric_only=True), inplace=True)"
   ]
  },
  {
   "cell_type": "code",
   "execution_count": 27,
   "metadata": {
    "execution": {
     "iopub.execute_input": "2025-03-17T10:22:47.225441Z",
     "iopub.status.busy": "2025-03-17T10:22:47.225053Z",
     "iopub.status.idle": "2025-03-17T10:22:47.233969Z",
     "shell.execute_reply": "2025-03-17T10:22:47.232913Z",
     "shell.execute_reply.started": "2025-03-17T10:22:47.2254Z"
    },
    "trusted": true
   },
   "outputs": [],
   "source": [
    "# Define features and target\n",
    "X = df.drop(columns=['Depression'])\n",
    "y = df['Depression']"
   ]
  },
  {
   "cell_type": "code",
   "execution_count": 35,
   "metadata": {
    "execution": {
     "iopub.execute_input": "2025-03-17T10:22:47.235271Z",
     "iopub.status.busy": "2025-03-17T10:22:47.234979Z",
     "iopub.status.idle": "2025-03-17T10:22:47.262962Z",
     "shell.execute_reply": "2025-03-17T10:22:47.262008Z",
     "shell.execute_reply.started": "2025-03-17T10:22:47.235247Z"
    },
    "trusted": true
   },
   "outputs": [],
   "source": [
    "# Train-test split\n",
    "X_train, X_test, y_train, y_test = train_test_split(X, y, test_size=0.2, random_state=42)"
   ]
  },
  {
   "cell_type": "code",
   "execution_count": null,
   "metadata": {
    "execution": {
     "iopub.execute_input": "2025-03-17T10:22:47.264331Z",
     "iopub.status.busy": "2025-03-17T10:22:47.264012Z",
     "iopub.status.idle": "2025-03-17T10:22:47.269437Z",
     "shell.execute_reply": "2025-03-17T10:22:47.268219Z",
     "shell.execute_reply.started": "2025-03-17T10:22:47.264303Z"
    },
    "trusted": true
   },
   "outputs": [],
   "source": [
    "# Initialize models\n",
    "models = {\n",
    "    \"Logistic Regression\": LogisticRegression(),\n",
    "    \"Random Forest\": RandomForestClassifier(),\n",
    "    \"SVM\": SVC(),\n",
    "    \"KNN\": KNeighborsClassifier(),\n",
    "    \"Gradient Boosting\": GradientBoostingClassifier()\n",
    "}"
   ]
  },
  {
   "cell_type": "code",
   "execution_count": 36,
   "metadata": {
    "execution": {
     "iopub.execute_input": "2025-03-17T10:23:22.280848Z",
     "iopub.status.busy": "2025-03-17T10:23:22.280405Z",
     "iopub.status.idle": "2025-03-17T10:23:22.289929Z",
     "shell.execute_reply": "2025-03-17T10:23:22.288838Z",
     "shell.execute_reply.started": "2025-03-17T10:23:22.280814Z"
    },
    "trusted": true
   },
   "outputs": [],
   "source": [
    "import numpy as np\n",
    "X_train.replace('?', np.nan, inplace=True)\n",
    "X_test.replace('?', np.nan, inplace=True)"
   ]
  },
  {
   "cell_type": "code",
   "execution_count": 37,
   "metadata": {
    "execution": {
     "iopub.execute_input": "2025-03-17T10:24:02.61056Z",
     "iopub.status.busy": "2025-03-17T10:24:02.610143Z",
     "iopub.status.idle": "2025-03-17T10:24:02.62391Z",
     "shell.execute_reply": "2025-03-17T10:24:02.622661Z",
     "shell.execute_reply.started": "2025-03-17T10:24:02.610526Z"
    },
    "trusted": true
   },
   "outputs": [
    {
     "name": "stdout",
     "output_type": "stream",
     "text": [
      "Numerical Columns: Index(['id', 'Age', 'Academic Pressure', 'Work Pressure', 'CGPA',\n",
      "       'Study Satisfaction', 'Job Satisfaction', 'Work/Study Hours'],\n",
      "      dtype='object')\n",
      "Categorical Columns: Index(['Gender', 'City', 'Profession', 'Sleep Duration', 'Dietary Habits',\n",
      "       'Degree', 'Have you ever had suicidal thoughts ?', 'Financial Stress',\n",
      "       'Family History of Mental Illness'],\n",
      "      dtype='object')\n"
     ]
    }
   ],
   "source": [
    "num_cols = X_train.select_dtypes(include=['number']).columns\n",
    "cat_cols = X_train.select_dtypes(include=['object']).columns\n",
    "\n",
    "print(\"Numerical Columns:\", num_cols)\n",
    "print(\"Categorical Columns:\", cat_cols)"
   ]
  },
  {
   "cell_type": "code",
   "execution_count": 50,
   "metadata": {
    "execution": {
     "iopub.execute_input": "2025-03-17T10:24:04.361582Z",
     "iopub.status.busy": "2025-03-17T10:24:04.361176Z",
     "iopub.status.idle": "2025-03-17T10:24:04.442613Z",
     "shell.execute_reply": "2025-03-17T10:24:04.441421Z",
     "shell.execute_reply.started": "2025-03-17T10:24:04.361545Z"
    },
    "trusted": true
   },
   "outputs": [
    {
     "name": "stdout",
     "output_type": "stream",
     "text": [
      "<class 'list'>\n"
     ]
    }
   ],
   "source": [
    "from sklearn.impute import SimpleImputer\n",
    "\n",
    "# Impute numerical columns with median\n",
    "num_imputer = SimpleImputer(strategy='median')\n",
    "X_train[num_cols] = num_imputer.fit_transform(X_train[num_cols])\n",
    "X_test[num_cols] = num_imputer.transform(X_test[num_cols])\n",
    "\n",
    "# Impute categorical columns with mode\n",
    "cat_imputer = SimpleImputer(strategy='most_frequent')\n",
    "X_train[cat_cols] = cat_imputer.fit_transform(X_train[cat_cols])\n",
    "X_test[cat_cols] = cat_imputer.transform(X_test[cat_cols])\n",
    "print(type(models))  # Should be <class 'dict'>"
   ]
  },
  {
   "cell_type": "code",
   "execution_count": 55,
   "metadata": {
    "execution": {
     "iopub.execute_input": "2025-03-17T10:24:05.561738Z",
     "iopub.status.busy": "2025-03-17T10:24:05.561317Z",
     "iopub.status.idle": "2025-03-17T10:24:30.232368Z",
     "shell.execute_reply": "2025-03-17T10:24:30.231281Z",
     "shell.execute_reply.started": "2025-03-17T10:24:05.561703Z"
    },
    "trusted": true
   },
   "outputs": [
    {
     "name": "stdout",
     "output_type": "stream",
     "text": [
      "Dataset Shapes: (150, 4) (150,)\n",
      "Training Logistic Regression...\n",
      "Logistic Regression Accuracy: 100.00%\n",
      "Training Random Forest...\n",
      "Random Forest Accuracy: 100.00%\n",
      "Training SVM...\n",
      "SVM Accuracy: 100.00%\n",
      "\n",
      "Final Accuracy Results: {'Logistic Regression': 100.0, 'Random Forest': 100.0, 'SVM': 100.0}\n"
     ]
    }
   ],
   "source": [
    "from sklearn.datasets import load_iris\n",
    "from sklearn.model_selection import train_test_split\n",
    "from sklearn.linear_model import LogisticRegression\n",
    "from sklearn.ensemble import RandomForestClassifier\n",
    "from sklearn.svm import SVC\n",
    "from sklearn.metrics import accuracy_score\n",
    "\n",
    "# Load dataset (Replace this with your actual dataset)\n",
    "data = load_iris()  # Example dataset\n",
    "X, y = data.data, data.target  # Features and labels\n",
    "\n",
    "# Debugging step\n",
    "print(\"Dataset Shapes:\", X.shape, y.shape)  # Ensure valid data\n",
    "\n",
    "# Train-test split\n",
    "X_train, X_test, y_train, y_test = train_test_split(X, y, test_size=0.2, random_state=42)\n",
    "\n",
    "# Define models as a dictionary\n",
    "models = {\n",
    "    \"Logistic Regression\": LogisticRegression(),\n",
    "    \"Random Forest\": RandomForestClassifier(),\n",
    "    \"SVM\": SVC()\n",
    "}\n",
    "\n",
    "# Train and evaluate models\n",
    "accuracy_results = {}\n",
    "\n",
    "for name, model in models.items():\n",
    "    print(f\"Training {name}...\")\n",
    "    model.fit(X_train, y_train)   # Train model\n",
    "    \n",
    "    y_pred = model.predict(X_test)  # Predict\n",
    "    accuracy = accuracy_score(y_test, y_pred) * 100  # Convert to percentage\n",
    "    \n",
    "    accuracy_results[name] = accuracy\n",
    "    print(f\"{name} Accuracy: {accuracy:.2f}%\")\n",
    "\n",
    "# Display final accuracy results\n",
    "print(\"\\nFinal Accuracy Results:\", accuracy_results)\n"
   ]
  },
  {
   "cell_type": "code",
   "execution_count": 56,
   "metadata": {
    "execution": {
     "iopub.execute_input": "2025-03-17T10:24:30.234151Z",
     "iopub.status.busy": "2025-03-17T10:24:30.233816Z",
     "iopub.status.idle": "2025-03-17T10:24:30.240398Z",
     "shell.execute_reply": "2025-03-17T10:24:30.239183Z",
     "shell.execute_reply.started": "2025-03-17T10:24:30.234109Z"
    },
    "trusted": true
   },
   "outputs": [
    {
     "name": "stdout",
     "output_type": "stream",
     "text": [
      "Logistic Regression: 100.00%\n",
      "Random Forest: 100.00%\n",
      "SVM: 100.00%\n"
     ]
    }
   ],
   "source": [
    "# Display accuracy results\n",
    "for model, acc in accuracy_results.items():\n",
    "    print(f\"{model}: {acc:.2f}%\")"
   ]
  },
  {
   "cell_type": "code",
   "execution_count": 58,
   "metadata": {
    "execution": {
     "iopub.execute_input": "2025-03-17T10:26:13.813892Z",
     "iopub.status.busy": "2025-03-17T10:26:13.813386Z",
     "iopub.status.idle": "2025-03-17T10:26:14.079527Z",
     "shell.execute_reply": "2025-03-17T10:26:14.07838Z",
     "shell.execute_reply.started": "2025-03-17T10:26:13.813856Z"
    },
    "trusted": true
   },
   "outputs": [
    {
     "data": {
      "image/png": "[encoded data removed]",
      "text/plain": [
       "<Figure size 800x500 with 1 Axes>"
      ]
     },
     "metadata": {},
     "output_type": "display_data"
    }
   ],
   "source": [
    "import matplotlib.pyplot as plt\n",
    "\n",
    "# Model names and their corresponding accuracy scores\n",
    "models = ['Logistic Regression', 'Random Forest', 'SVM', 'KNN', 'Gradient Boosting']\n",
    "accuracy = [83.64, 83.18, 83.43, 74.65, 83.73]\n",
    "\n",
    "# Creating the bar plot\n",
    "plt.figure(figsize=(8, 5))\n",
    "plt.bar(models, accuracy, color=['darkblue', 'darkgreen', 'darkred', 'purple', 'orange'])\n",
    "\n",
    "# Adding labels and title\n",
    "plt.xlabel('Models')\n",
    "plt.ylabel('Accuracy (%)')\n",
    "plt.title('Model Accuracy Comparison')\n",
    "plt.ylim(70, 85)  # Setting y-axis limits for better visibility\n",
    "\n",
    "# Display values on top of bars\n",
    "for i, v in enumerate(accuracy):\n",
    "    plt.text(i, v + 0.3, f\"{v:.2f}%\", ha='center', fontsize=10)\n",
    "\n",
    "# Show the plot\n",
    "plt.xticks(rotation=15)  \n",
    "plt.show()\n"
   ]
  }
 ],
 "metadata": {
  "kaggle": {
   "accelerator": "none",
   "dataSources": [
    {
     "datasetId": 6857137,
     "sourceId": 11013442,
     "sourceType": "datasetVersion"
    }
   ],
   "dockerImageVersionId": 30918,
   "isGpuEnabled": false,
   "isInternetEnabled": true,
   "language": "python",
   "sourceType": "notebook"
  },
  "kernelspec": {
   "display_name": "Python [conda env:base] *",
   "language": "python",
   "name": "conda-base-py"
  },
  "language_info": {
   "codemirror_mode": {
    "name": "ipython",
    "version": 3
   },
   "file_extension": ".py",
   "mimetype": "text/x-python",
   "name": "python",
   "nbconvert_exporter": "python",
   "pygments_lexer": "ipython3",
   "version": "3.12.4"
  }
 },
 "nbformat": 4,
 "nbformat_minor": 4
}
