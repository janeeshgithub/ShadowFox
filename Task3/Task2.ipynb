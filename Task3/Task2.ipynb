{
 "cells": [
  {
   "cell_type": "code",
   "execution_count": null,
   "id": "66c17c30-e011-4f03-8da7-b25134211465",
   "metadata": {},
   "outputs": [
    {
     "name": "stdout",
     "output_type": "stream",
     "text": [
      "Downloading dataset...\n",
      "Download complete.\n",
      "Graph loaded with 281903 nodes and 2312497 edges.\n",
      "\n",
      "Top 10 pages by PageRank:\n",
      "Page 89073: 0.010006\n",
      "Page 226411: 0.009682\n",
      "Page 241454: 0.008900\n",
      "Page 134832: 0.005894\n",
      "Page 69358: 0.003399\n",
      "Page 67756: 0.003208\n",
      "Page 105607: 0.002925\n",
      "Page 225872: 0.002873\n",
      "Page 234704: 0.002871\n",
      "Page 186750: 0.002846\n"
     ]
    }
   ],
   "source": [
    "import numpy as np\n",
    "import networkx as nx\n",
    "import requests\n",
    "import gzip\n",
    "import shutil\n",
    "import os\n",
    "\n",
    "# Dataset URL\n",
    "url = \"https://snap.stanford.edu/data/web-Stanford.txt.gz\"\n",
    "filename = \"web-Stanford.txt.gz\"\n",
    "extracted_file = \"web-Stanford.txt\"\n",
    "\n",
    "# Download dataset if not already downloaded\n",
    "if not os.path.exists(filename):\n",
    "    print(\"Downloading dataset...\")\n",
    "    response = requests.get(url, stream=True)\n",
    "    with open(filename, \"wb\") as f:\n",
    "        shutil.copyfileobj(response.raw, f)\n",
    "    print(\"Download complete.\")\n",
    "\n",
    "# Extract file if not already extracted\n",
    "if not os.path.exists(extracted_file):\n",
    "    print(\"Extracting dataset...\")\n",
    "    with gzip.open(filename, \"rb\") as f_in:\n",
    "        with open(extracted_file, \"wb\") as f_out:\n",
    "            shutil.copyfileobj(f_in, f_out)\n",
    "    print(\"Extraction complete.\")\n",
    "\n",
    "# Load dataset into NetworkX graph\n",
    "G = nx.DiGraph()\n",
    "with open(extracted_file, \"r\") as file:\n",
    "    for line in file:\n",
    "        if line.startswith(\"#\"):  # Ignore comments\n",
    "            continue\n",
    "        src, dest = map(int, line.strip().split())  # Read edges\n",
    "        G.add_edge(src, dest)\n",
    "\n",
    "print(f\"Graph loaded with {G.number_of_nodes()} nodes and {G.number_of_edges()} edges.\")\n",
    "\n",
    "# Compute PageRank using NetworkX's built-in function\n",
    "pagerank_scores = nx.pagerank(G, alpha=0.85)\n",
    "\n",
    "# Display top 10 pages by rank\n",
    "top_pages = sorted(pagerank_scores.items(), key=lambda x: x[1], reverse=True)[:10]\n",
    "\n",
    "print(\"\\nTop 10 pages by PageRank:\")\n",
    "for node, rank in top_pages:\n",
    "    print(f\"Page {node}: {rank:.6f}\")\n"
   ]
  },
  {
   "cell_type": "code",
   "execution_count": null,
   "id": "2b1716d5-0c80-4c53-b110-3de3b6c45672",
   "metadata": {},
   "outputs": [],
   "source": []
  }
 ],
 "metadata": {
  "kernelspec": {
   "display_name": "Python 3",
   "language": "python",
   "name": "python3"
  },
  "language_info": {
   "codemirror_mode": {
    "name": "ipython",
    "version": 3
   },
   "file_extension": ".py",
   "mimetype": "text/x-python",
   "name": "python",
   "nbconvert_exporter": "python",
   "pygments_lexer": "ipython3",
   "version": "3.12.9"
  }
 },
 "nbformat": 4,
 "nbformat_minor": 5
}
